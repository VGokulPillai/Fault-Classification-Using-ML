{
  "nbformat": 4,
  "nbformat_minor": 0,
  "metadata": {
    "colab": {
      "name": "EnergyClassification.ipynb",
      "provenance": [],
      "authorship_tag": "ABX9TyMysOHcHCYUNNTXIGmy+xM5",
      "include_colab_link": true
    },
    "kernelspec": {
      "name": "python3",
      "display_name": "Python 3"
    }
  },
  "cells": [
    {
      "cell_type": "markdown",
      "metadata": {
        "id": "view-in-github",
        "colab_type": "text"
      },
      "source": [
        "<a href=\"https://colab.research.google.com/github/VGokulPillai/Fault-Classification-Using-ML/blob/main/EnergyClassification.ipynb\" target=\"_parent\"><img src=\"https://colab.research.google.com/assets/colab-badge.svg\" alt=\"Open In Colab\"/></a>"
      ]
    },
    {
      "cell_type": "code",
      "metadata": {
        "colab": {
          "base_uri": "https://localhost:8080/"
        },
        "id": "PRihu-gEyumU",
        "outputId": "babc5661-5c03-48fe-91e4-cb465854c14e"
      },
      "source": [
        "import pandas as pd\n",
        "import matplotlib.pyplot as plt\n",
        "import numpy as np\n",
        "import pickle\n",
        "import seaborn as sns\n",
        "\n",
        "\n",
        "dataset = pd.read_csv('/content/Energy.csv')\n",
        "X = dataset[['Bus1','Bus2', 'Bus3', 'Bus4']]\n",
        "y = dataset['Symmetrical or Unsymmetrical']\n",
        "\n",
        "from sklearn.model_selection import train_test_split\n",
        "X_train, X_test, y_train, y_test = train_test_split(X, y, test_size = 0.2, random_state = 0)\n",
        "\n",
        "from sklearn.ensemble import RandomForestRegressor\n",
        "from sklearn.model_selection import cross_val_score\n",
        "\n",
        "regressor = RandomForestRegressor(n_estimators=100)\n",
        "regressor.fit(X_train, y_train)\n",
        "feature_importances = regressor.feature_importances_\n",
        "\n",
        "X_train_opt = X_train.copy()\n",
        "removed_columns = pd.DataFrame()\n",
        "models = []\n",
        "r2s_opt = []\n",
        "\n",
        "\n",
        "for i in range(0, 5):\n",
        "    regressor.fit(X_train_opt, y_train)\n",
        "    feature_importances = regressor.feature_importances_\n",
        "    accuracies = cross_val_score(estimator=regressor,\n",
        "                                 X=X_train_opt,\n",
        "                                 y=y_train, cv=5,\n",
        "                                 scoring='r2')\n",
        "    r2s_opt = np.append(r2s_opt, accuracies.mean())\n",
        "    models = np.append(models, \", \".join(list(X_train_opt)))\n",
        "\n",
        "feature_selection = pd.DataFrame({'Features': models, 'r2 Score': r2s_opt})\n",
        "feature_selection.head()\n",
        "\n",
        "X_train_best = X_train[['Bus1','Bus2', 'Bus3', 'Bus4']]\n",
        "X_test_best = X_test[['Bus1','Bus2', 'Bus3', 'Bus4']]\n",
        "regressor.fit(X_train_best, y_train)\n",
        "pickle.dump(regressor,open('Finalmodel.pkl','wb'))\n",
        "model = pickle.load(open('Finalmodel.pkl','rb'))\n",
        "\n",
        "accuracies = cross_val_score(estimator = regressor, X = X_train_best,y = y_train, cv = 10, scoring = 'r2')\n",
        "accuracy = accuracies.mean()\n",
        "#print('r2 = {}'.format(accuracy))\n",
        "\n",
        "from sklearn.metrics import explained_variance_score, mean_squared_error, r2_score\n",
        "y_pred = regressor.predict(X_test_best)\n",
        "explained_variance_score = explained_variance_score(y_test, y_pred)\n",
        "mean_squared_error = mean_squared_error(y_test, y_pred)\n",
        "r_squared = r2_score(y_test, y_pred)\n",
        "#print('explained variance = {}'.format(explained_variance_score))\n",
        "#print('mse = {}'.format(mean_squared_error))\n",
        "#print('r2 = {}'.format(r_squared))\n",
        "Bus1  = float(input(\"Enter Bus1 Current Fault: \"))\n",
        "Bus2  = float(input(\"Enter Bus2 Current Fault: \"))\n",
        "Bus3  = float(input(\"Enter Bus3 Current Fault: \"))\n",
        "Bus4  = float(input(\"Enter Bus4 Current Fault: \"))\n",
        "result = model.predict([[Bus1,Bus2,Bus3,Bus4]])\n",
        "if result==1:\n",
        "  print(\"The fault is classified into Symmetrical based on the given values and using ML program\")\n",
        "else:\n",
        "  print(\"The fault is classified into Unsymmetrical based on the given values and using ML program\")\n"
      ],
      "execution_count": 7,
      "outputs": [
        {
          "output_type": "stream",
          "text": [
            "Enter Bus1 Current Fault: 10.374\n",
            "Enter Bus2 Current Fault: 8.58\n",
            "Enter Bus3 Current Fault: 8.364\n",
            "Enter Bus4 Current Fault: 8.063\n",
            "The fault is classified into Symmetrical based on the given values and using ML program\n"
          ],
          "name": "stdout"
        }
      ]
    }
  ]
}